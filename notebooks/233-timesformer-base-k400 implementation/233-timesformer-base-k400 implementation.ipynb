{
 "cells": [
  {
   "attachments": {},
   "cell_type": "markdown",
   "metadata": {},
   "source": [
    "# Convert and Optimize TimeSformer with OpenVINO™\n",
    "TimeSformer(from Time-Space Transformer) devised and proposed in [Is Space-Time Attention All You Need for Video Understanding?](https://arxiv.org/abs/2102.05095) uses "
   ]
  }
 ],
 "metadata": {
  "kernelspec": {
   "display_name": "Python 3",
   "language": "python",
   "name": "python3"
  },
  "language_info": {
   "name": "python",
   "version": "3.7.13"
  },
  "orig_nbformat": 4,
  "vscode": {
   "interpreter": {
    "hash": "aa721c0b0227924e1313fb54ae915d2c7d3543290c470868f96f7f07b40b2667"
   }
  }
 },
 "nbformat": 4,
 "nbformat_minor": 2
}
