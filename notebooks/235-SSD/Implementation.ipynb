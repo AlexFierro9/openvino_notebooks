{
 "cells": [
  {
   "cell_type": "code",
   "execution_count": 1,
   "metadata": {},
   "outputs": [
    {
     "name": "stderr",
     "output_type": "stream",
     "text": [
      "2023-03-11 14:57:28.254776: W tensorflow/stream_executor/platform/default/dso_loader.cc:64] Could not load dynamic library 'libcudart.so.11.0'; dlerror: libcudart.so.11.0: cannot open shared object file: No such file or directory\n",
      "2023-03-11 14:57:28.255218: I tensorflow/stream_executor/cuda/cudart_stub.cc:29] Ignore above cudart dlerror if you do not have a GPU set up on your machine.\n"
     ]
    }
   ],
   "source": [
    "import tensorflow as tf\n"
   ]
  },
  {
   "cell_type": "code",
   "execution_count": 2,
   "metadata": {},
   "outputs": [
    {
     "name": "stdout",
     "output_type": "stream",
     "text": [
      "/home/suhas/.keras/datasets/ssd_mobilenet_v2_320x320_coco17_tpu-8\n"
     ]
    }
   ],
   "source": [
    "source = 'http://download.tensorflow.org/models/object_detection/tf2/20200711/ssd_mobilenet_v2_320x320_coco17_tpu-8.tar.gz'\n",
    "model_dir = tf.keras.utils.get_file(fname='ssd_mobilenet_v2_320x320_coco17_tpu-8',origin = source, untar=True)\n",
    "print(model_dir)"
   ]
  },
  {
   "cell_type": "code",
   "execution_count": 3,
   "metadata": {},
   "outputs": [
    {
     "name": "stderr",
     "output_type": "stream",
     "text": [
      "2023-03-11 14:57:43.168924: W tensorflow/stream_executor/platform/default/dso_loader.cc:64] Could not load dynamic library 'libcuda.so.1'; dlerror: libcuda.so.1: cannot open shared object file: No such file or directory\n",
      "2023-03-11 14:57:43.170353: W tensorflow/stream_executor/cuda/cuda_driver.cc:269] failed call to cuInit: UNKNOWN ERROR (303)\n",
      "2023-03-11 14:57:43.170893: I tensorflow/stream_executor/cuda/cuda_diagnostics.cc:156] kernel driver does not appear to be running on this host (Magnus): /proc/driver/nvidia/version does not exist\n",
      "2023-03-11 14:57:43.182423: I tensorflow/core/platform/cpu_feature_guard.cc:193] This TensorFlow binary is optimized with oneAPI Deep Neural Network Library (oneDNN) to use the following CPU instructions in performance-critical operations:  AVX2 FMA\n",
      "To enable them in other operations, rebuild TensorFlow with the appropriate compiler flags.\n"
     ]
    }
   ],
   "source": [
    "model = tf.saved_model.load(model_dir+'/saved_model',tags = ['serve'])"
   ]
  },
  {
   "cell_type": "code",
   "execution_count": 4,
   "metadata": {},
   "outputs": [],
   "source": [
    "signature = model.signatures['serving_default']"
   ]
  },
  {
   "cell_type": "code",
   "execution_count": 5,
   "metadata": {},
   "outputs": [],
   "source": [
    "import numpy as np\n",
    "import cv2\n",
    "# Load an image from a file\n",
    "image = cv2.imread('Screenshot 2023-03-10 190018.jpg')\n",
    "\n",
    "# Convert the image from BGR to RGB format\n",
    "image = cv2.cvtColor(image, cv2.COLOR_BGR2RGB)\n",
    "\n",
    "# Resize the image to 320x320 pixels\n",
    "image = cv2.resize(image, (320, 320))\n",
    "\n",
    "# Convert the image to a float32 tensor\n",
    "image = tf.convert_to_tensor(image, dtype=tf.uint8)\n",
    "\n",
    "# Add a batch dimension to the tensor\n",
    "image = tf.expand_dims(image, axis=0)\n",
    "\n",
    "output_tensor = signature(image)\n"
   ]
  },
  {
   "cell_type": "code",
   "execution_count": 6,
   "metadata": {},
   "outputs": [
    {
     "name": "stdout",
     "output_type": "stream",
     "text": [
      "dict_keys(['detection_classes', 'num_detections', 'raw_detection_boxes', 'detection_scores', 'detection_multiclass_scores', 'detection_anchor_indices', 'detection_boxes', 'raw_detection_scores'])\n"
     ]
    }
   ],
   "source": [
    "print(output_tensor.keys())"
   ]
  },
  {
   "cell_type": "code",
   "execution_count": 14,
   "metadata": {},
   "outputs": [
    {
     "name": "stdout",
     "output_type": "stream",
     "text": [
      "tf.Tensor(\n",
      "[[0.5498422  0.51488787 0.7297781  0.7427593 ]\n",
      " [0.3159811  0.24362007 0.830695   0.86361945]\n",
      " [0.32443208 0.20782459 0.7398998  0.5940603 ]\n",
      " [0.29114962 0.22371548 0.6894703  0.7429621 ]\n",
      " [0.5498422  0.51488787 0.7297781  0.7427593 ]\n",
      " [0.36915946 0.43463087 0.88143134 0.87863183]\n",
      " [0.606972   0.2555985  0.930426   0.54398656]\n",
      " [0.65117806 0.25002554 0.9420807  0.52729464]\n",
      " [0.30890626 0.3202736  0.48692423 0.66410303]\n",
      " [0.30313703 0.25841793 0.57485783 0.7940881 ]\n",
      " [0.65117806 0.25002554 0.9420807  0.52729464]\n",
      " [0.11325721 0.3847238  0.18732291 0.48560676]\n",
      " [0.3787956  0.2468631  0.8270074  0.6560172 ]\n",
      " [0.61532634 0.52294534 0.80288047 0.8036359 ]\n",
      " [0.11325721 0.3847238  0.18732291 0.48560676]\n",
      " [0.6627954  0.2899154  0.9344318  0.5116409 ]\n",
      " [0.11366232 0.28021494 0.19119234 0.38080242]\n",
      " [0.4300896  0.14462665 0.9116676  0.6295259 ]\n",
      " [0.38302863 0.2602626  0.8847884  0.8706955 ]\n",
      " [0.24657986 0.09897757 0.8822758  0.9461874 ]\n",
      " [0.4301023  0.40190268 0.57860535 0.6388266 ]\n",
      " [0.6320605  0.24732013 0.93799496 0.5262202 ]\n",
      " [0.38446784 0.5962739  0.6178942  0.7460294 ]\n",
      " [0.5498422  0.51488787 0.7297781  0.7427593 ]\n",
      " [0.36941904 0.346842   0.7498191  0.7717561 ]\n",
      " [0.3839528  0.5659735  0.69449204 0.75155246]\n",
      " [0.33775586 0.43625343 0.4687816  0.72406447]\n",
      " [0.3753787  0.7937509  0.7529297  0.95271814]\n",
      " [0.6320605  0.24732013 0.93799496 0.5262202 ]\n",
      " [0.41806468 0.12854427 0.97138155 0.9147878 ]\n",
      " [0.31580597 0.31096387 0.48039562 0.5318644 ]\n",
      " [0.35489517 0.40122366 0.51581573 0.71671927]\n",
      " [0.01570068 0.84687275 0.27859306 0.9917117 ]\n",
      " [0.08811546 0.2690453  0.2290026  0.5243152 ]\n",
      " [0.62853336 0.12366936 0.78994703 0.39165464]\n",
      " [0.3239245  0.35142785 0.6017959  0.52619797]\n",
      " [0.4751904  0.5252949  0.72199416 0.74618995]\n",
      " [0.5498422  0.51488787 0.7297781  0.7427593 ]\n",
      " [0.44094533 0.43136215 0.87376696 0.66840684]\n",
      " [0.6281004  0.28605428 0.7041303  0.3881205 ]\n",
      " [0.5498422  0.51488787 0.7297781  0.7427593 ]\n",
      " [0.3144947  0.22554761 0.5554832  0.36539727]\n",
      " [0.46840733 0.29932135 0.5259081  0.37750804]\n",
      " [0.31923065 0.31157798 0.55550003 0.49510062]\n",
      " [0.56005895 0.5196657  0.83576465 0.71821785]\n",
      " [0.11325721 0.3847238  0.18732291 0.48560676]\n",
      " [0.6882151  0.5389749  0.84445554 0.8391334 ]\n",
      " [0.3635588  0.6276901  0.6046005  0.74983263]\n",
      " [0.40476447 0.4479324  0.58541733 0.712553  ]\n",
      " [0.31619173 0.15651625 0.5806789  0.6632797 ]\n",
      " [0.40402701 0.860757   0.75288904 0.977718  ]\n",
      " [0.351923   0.7099619  0.76197135 0.95716226]\n",
      " [0.6696398  0.31448767 0.9100735  0.5243398 ]\n",
      " [0.67684317 0.31093976 0.8959421  0.5321829 ]\n",
      " [0.3318861  0.42538857 0.8755534  0.9052224 ]\n",
      " [0.0247234  0.01473808 0.42724007 0.9834829 ]\n",
      " [0.5009102  0.36101037 0.8823622  0.75713056]\n",
      " [0.09414135 0.27068445 0.21353258 0.52028835]\n",
      " [0.3616159  0.6342569  0.5739656  0.74987394]\n",
      " [0.3144947  0.22554761 0.5554832  0.36539727]\n",
      " [0.59250516 0.15243708 0.80419356 0.3352909 ]\n",
      " [0.3839528  0.5659735  0.69449204 0.75155246]\n",
      " [0.11325721 0.3847238  0.18732291 0.48560676]\n",
      " [0.35498503 0.24554136 0.8431945  0.7432256 ]\n",
      " [0.5425076  0.23885426 0.93162626 0.56969786]\n",
      " [0.6606169  0.10104674 0.828094   0.3173144 ]\n",
      " [0.36626804 0.48940042 0.5434321  0.7763796 ]\n",
      " [0.46636134 0.18479784 0.8138706  0.57270366]\n",
      " [0.36153826 0.7910882  0.44773677 0.85922384]\n",
      " [0.34756315 0.08783635 0.42823184 0.21154514]\n",
      " [0.34894913 0.2379413  0.53674746 0.45625314]\n",
      " [0.33840334 0.28451875 0.6209584  0.47781983]\n",
      " [0.44573817 0.4231758  0.6203885  0.6925769 ]\n",
      " [0.5356691  0.5147138  0.73440707 0.7467533 ]\n",
      " [0.11366232 0.28021494 0.19119234 0.38080242]\n",
      " [0.60756487 0.5329581  0.71115226 0.685347  ]\n",
      " [0.30852395 0.31040666 0.9214688  0.72037005]\n",
      " [0.35838366 0.57062817 0.45174116 0.65805817]\n",
      " [0.37955272 0.2406747  0.5068995  0.3187128 ]\n",
      " [0.41710144 0.46396303 0.6273945  0.63769007]\n",
      " [0.5005952  0.41002455 0.8335632  0.59493047]\n",
      " [0.11495969 0.37632474 0.17497382 0.45182464]\n",
      " [0.3600718  0.74359417 0.4426591  0.7951851 ]\n",
      " [0.5498422  0.51488787 0.7297781  0.7427593 ]\n",
      " [0.00700988 0.76496273 0.2516225  0.87990326]\n",
      " [0.42750084 0.792795   0.7703264  0.9556131 ]\n",
      " [0.2892782  0.17200333 0.8977285  0.5110425 ]\n",
      " [0.23662555 0.42222556 0.84528685 0.97660875]\n",
      " [0.33575448 0.37668505 0.457867   0.48891792]\n",
      " [0.65124154 0.30789775 0.72843456 0.40668464]\n",
      " [0.6696398  0.31448767 0.9100735  0.5243398 ]\n",
      " [0.6250133  0.3433714  0.86762005 0.53132045]\n",
      " [0.66751564 0.30284363 0.93452084 0.5280291 ]\n",
      " [0.07192377 0.79971355 0.21171248 0.8610056 ]\n",
      " [0.36423448 0.68128264 0.44175825 0.7522037 ]\n",
      " [0.32194984 0.38689297 0.536535   0.6078809 ]\n",
      " [0.35528937 0.8246944  0.43987074 0.892889  ]\n",
      " [0.13048351 0.10887185 0.61331344 0.91713   ]\n",
      " [0.40873176 0.42485082 0.6155326  0.6013067 ]\n",
      " [0.24886915 0.69097483 0.3203242  0.7478386 ]], shape=(100, 4), dtype=float32)\n"
     ]
    }
   ],
   "source": [
    "print(output_tensor['detection_boxes'][0])"
   ]
  },
  {
   "cell_type": "code",
   "execution_count": 20,
   "metadata": {},
   "outputs": [],
   "source": [
    "colors = np.array([[1.0, 0.0, 0.0], [0.0, 0.0, 1.0]])\n",
    "image = cv2.imread('Screenshot 2023-03-10 190018.jpg')\n",
    "\n",
    "# Convert the image from BGR to RGB format\n",
    "image = cv2.cvtColor(image, cv2.COLOR_BGR2RGB)\n",
    "\n",
    "# Resize the image to 320x320 pixels\n",
    "image = cv2.resize(image, (320, 320))\n",
    "\n",
    "# Convert the image to a float32 tensor\n",
    "image = tf.convert_to_tensor(image, dtype=tf.float32)\n",
    "\n",
    "# Add a batch dimension to the tensor\n",
    "image = tf.expand_dims(image, axis=0)\n",
    "image_with_boxes = tf.image.draw_bounding_boxes(image,output_tensor['detection_boxes'],colors)"
   ]
  },
  {
   "cell_type": "code",
   "execution_count": 21,
   "metadata": {},
   "outputs": [
    {
     "name": "stderr",
     "output_type": "stream",
     "text": [
      "[12427:12427:0311/151020.959662:ERROR:browser_dm_token_storage_linux.cc(100)] Error: /etc/machine-id contains 0 characters (32 were expected).\n",
      "[12427:12453:0311/151021.072231:ERROR:bus.cc(399)] Failed to connect to the bus: Failed to connect to socket /run/dbus/system_bus_socket: No such file or directory\n",
      "[12427:12459:0311/151021.822990:ERROR:bus.cc(399)] Failed to connect to the bus: Failed to connect to socket /run/dbus/system_bus_socket: No such file or directory\n",
      "[12427:12459:0311/151021.823203:ERROR:bus.cc(399)] Failed to connect to the bus: Failed to connect to socket /run/dbus/system_bus_socket: No such file or directory\n",
      "[12427:12453:0311/151021.890480:ERROR:bus.cc(399)] Failed to connect to the bus: Could not parse server address: Unknown address type (examples of valid types are \"tcp\" and on UNIX \"unix\")\n",
      "[12427:12453:0311/151021.891554:ERROR:bus.cc(399)] Failed to connect to the bus: Could not parse server address: Unknown address type (examples of valid types are \"tcp\" and on UNIX \"unix\")\n"
     ]
    },
    {
     "name": "stdout",
     "output_type": "stream",
     "text": [
      "Opening in existing browser session.\n"
     ]
    }
   ],
   "source": [
    "tf.keras.preprocessing.image.array_to_img(image_with_boxes[0]).show()"
   ]
  },
  {
   "cell_type": "code",
   "execution_count": null,
   "metadata": {},
   "outputs": [],
   "source": []
  }
 ],
 "metadata": {
  "kernelspec": {
   "display_name": "Python 3 (ipykernel)",
   "language": "python",
   "name": "python3"
  },
  "language_info": {
   "codemirror_mode": {
    "name": "ipython",
    "version": 3
   },
   "file_extension": ".py",
   "mimetype": "text/x-python",
   "name": "python",
   "nbconvert_exporter": "python",
   "pygments_lexer": "ipython3",
   "version": "3.10.6"
  },
  "orig_nbformat": 4
 },
 "nbformat": 4,
 "nbformat_minor": 2
}
